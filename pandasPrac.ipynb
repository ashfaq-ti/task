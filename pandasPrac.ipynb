{
 "cells": [
  {
   "cell_type": "code",
   "execution_count": 1,
   "id": "777324f9-796a-4ab4-be18-fd3beb6aaa47",
   "metadata": {},
   "outputs": [],
   "source": [
    "import pandas as pd"
   ]
  },
  {
   "cell_type": "code",
   "execution_count": 7,
   "id": "50b285f8-5771-4562-9022-2de40e5b9354",
   "metadata": {},
   "outputs": [],
   "source": [
    "df = pd.read_excel('/home/technoidentity/pythonPrac/table.xlsx')"
   ]
  },
  {
   "cell_type": "code",
   "execution_count": 8,
   "id": "0aaaad2b-9583-4f01-a48a-e3884c75415d",
   "metadata": {},
   "outputs": [
    {
     "data": {
      "text/html": [
       "<div>\n",
       "<style scoped>\n",
       "    .dataframe tbody tr th:only-of-type {\n",
       "        vertical-align: middle;\n",
       "    }\n",
       "\n",
       "    .dataframe tbody tr th {\n",
       "        vertical-align: top;\n",
       "    }\n",
       "\n",
       "    .dataframe thead th {\n",
       "        text-align: right;\n",
       "    }\n",
       "</style>\n",
       "<table border=\"1\" class=\"dataframe\">\n",
       "  <thead>\n",
       "    <tr style=\"text-align: right;\">\n",
       "      <th></th>\n",
       "      <th>Title</th>\n",
       "      <th>Type</th>\n",
       "      <th>URL</th>\n",
       "      <th>Notes</th>\n",
       "      <th>Review Status</th>\n",
       "    </tr>\n",
       "  </thead>\n",
       "  <tbody>\n",
       "    <tr>\n",
       "      <th>0</th>\n",
       "      <td>Strategies for Improving Toll Plaza Safety</td>\n",
       "      <td>PDF</td>\n",
       "      <td>https://www.ibtta.org/sites/default/files/Stra...</td>\n",
       "      <td>NaN</td>\n",
       "      <td>Completed</td>\n",
       "    </tr>\n",
       "    <tr>\n",
       "      <th>1</th>\n",
       "      <td>Building Innovation Capacity Toll Industry Pra...</td>\n",
       "      <td>PDF</td>\n",
       "      <td>https://www.ibtta.org/sites/default/files/docu...</td>\n",
       "      <td>NaN</td>\n",
       "      <td>Completed</td>\n",
       "    </tr>\n",
       "    <tr>\n",
       "      <th>2</th>\n",
       "      <td>Tolling U.S. Highways and Bridges</td>\n",
       "      <td>PDF</td>\n",
       "      <td>https://www.ibtta.org/sites/default/files/docu...</td>\n",
       "      <td>NaN</td>\n",
       "      <td>Completed</td>\n",
       "    </tr>\n",
       "    <tr>\n",
       "      <th>3</th>\n",
       "      <td>TOLLING U.S. INTERSTATES: Lessons learned from...</td>\n",
       "      <td>PDF</td>\n",
       "      <td>https://www.ibtta.org/sites/default/files/unre...</td>\n",
       "      <td>NaN</td>\n",
       "      <td>Completed</td>\n",
       "    </tr>\n",
       "    <tr>\n",
       "      <th>4</th>\n",
       "      <td>Tolling the line, part I</td>\n",
       "      <td>PDF</td>\n",
       "      <td>https://www.ibtta.org/sites/default/files/docu...</td>\n",
       "      <td>NaN</td>\n",
       "      <td>Completed</td>\n",
       "    </tr>\n",
       "  </tbody>\n",
       "</table>\n",
       "</div>"
      ],
      "text/plain": [
       "                                               Title Type  \\\n",
       "0         Strategies for Improving Toll Plaza Safety  PDF   \n",
       "1  Building Innovation Capacity Toll Industry Pra...  PDF   \n",
       "2                  Tolling U.S. Highways and Bridges  PDF   \n",
       "3  TOLLING U.S. INTERSTATES: Lessons learned from...  PDF   \n",
       "4                           Tolling the line, part I  PDF   \n",
       "\n",
       "                                                 URL  Notes Review Status  \n",
       "0  https://www.ibtta.org/sites/default/files/Stra...    NaN     Completed  \n",
       "1  https://www.ibtta.org/sites/default/files/docu...    NaN     Completed  \n",
       "2  https://www.ibtta.org/sites/default/files/docu...    NaN     Completed  \n",
       "3  https://www.ibtta.org/sites/default/files/unre...    NaN     Completed  \n",
       "4  https://www.ibtta.org/sites/default/files/docu...    NaN     Completed  "
      ]
     },
     "execution_count": 8,
     "metadata": {},
     "output_type": "execute_result"
    }
   ],
   "source": [
    "df"
   ]
  },
  {
   "cell_type": "code",
   "execution_count": 9,
   "id": "7668c9be-d6bd-48a1-b02b-d8a62f4a64d7",
   "metadata": {},
   "outputs": [
    {
     "data": {
      "text/plain": [
       "(5, 5)"
      ]
     },
     "execution_count": 9,
     "metadata": {},
     "output_type": "execute_result"
    }
   ],
   "source": [
    "df.shape"
   ]
  },
  {
   "cell_type": "code",
   "execution_count": 10,
   "id": "231d1579-063b-4679-860b-b30e9cfea718",
   "metadata": {},
   "outputs": [
    {
     "name": "stdout",
     "output_type": "stream",
     "text": [
      "<class 'pandas.core.frame.DataFrame'>\n",
      "RangeIndex: 5 entries, 0 to 4\n",
      "Data columns (total 5 columns):\n",
      " #   Column         Non-Null Count  Dtype  \n",
      "---  ------         --------------  -----  \n",
      " 0   Title          5 non-null      object \n",
      " 1   Type           5 non-null      object \n",
      " 2   URL            5 non-null      object \n",
      " 3   Notes          0 non-null      float64\n",
      " 4   Review Status  5 non-null      object \n",
      "dtypes: float64(1), object(4)\n",
      "memory usage: 332.0+ bytes\n"
     ]
    }
   ],
   "source": [
    "df.info()"
   ]
  },
  {
   "cell_type": "code",
   "execution_count": 14,
   "id": "a5b85a23-fb7c-455c-a6e9-0bcd1b4b6a10",
   "metadata": {},
   "outputs": [
    {
     "data": {
      "text/plain": [
       "'https://www.ibtta.org/sites/default/files/Strategies%20for%20Improving%20Toll%20Plaza%20Safety.pdf'"
      ]
     },
     "execution_count": 14,
     "metadata": {},
     "output_type": "execute_result"
    }
   ],
   "source": [
    "df.iloc[0,2]"
   ]
  },
  {
   "cell_type": "code",
   "execution_count": 15,
   "id": "c0ce7de3-2f1b-4e62-bdae-35cd576c53e3",
   "metadata": {},
   "outputs": [
    {
     "data": {
      "text/plain": [
       "Title                   Strategies for Improving Toll Plaza Safety\n",
       "Type                                                           PDF\n",
       "URL              https://www.ibtta.org/sites/default/files/Stra...\n",
       "Notes                                                          NaN\n",
       "Review Status                                            Completed\n",
       "Name: 0, dtype: object"
      ]
     },
     "execution_count": 15,
     "metadata": {},
     "output_type": "execute_result"
    }
   ],
   "source": [
    "df.loc[0]"
   ]
  },
  {
   "cell_type": "code",
   "execution_count": null,
   "id": "154975dd-e37a-4d50-8401-b7d9e39b686d",
   "metadata": {},
   "outputs": [],
   "source": []
  }
 ],
 "metadata": {
  "kernelspec": {
   "display_name": "Python 3 (ipykernel)",
   "language": "python",
   "name": "python3"
  },
  "language_info": {
   "codemirror_mode": {
    "name": "ipython",
    "version": 3
   },
   "file_extension": ".py",
   "mimetype": "text/x-python",
   "name": "python",
   "nbconvert_exporter": "python",
   "pygments_lexer": "ipython3",
   "version": "3.12.3"
  }
 },
 "nbformat": 4,
 "nbformat_minor": 5
}
