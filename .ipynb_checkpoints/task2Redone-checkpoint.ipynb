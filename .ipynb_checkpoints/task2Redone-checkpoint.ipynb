{
 "cells": [
  {
   "cell_type": "raw",
   "id": "07848ad3-e656-45bd-b676-052a2a397383",
   "metadata": {},
   "source": [
    "pip install groq"
   ]
  },
  {
   "cell_type": "code",
   "execution_count": 1,
   "id": "bb3fb92e-7780-4dac-ab1c-6f558c5735ee",
   "metadata": {},
   "outputs": [],
   "source": [
    "import os\n",
    "os.environ['GROQ_API_KEY'] = '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'"
   ]
  },
  {
   "cell_type": "code",
   "execution_count": 2,
   "id": "6a702ff0-f50b-493f-a46d-f07abe9f0a9c",
   "metadata": {},
   "outputs": [],
   "source": [
    "from groq import Groq\n",
    "\n",
    "client = Groq(\n",
    "    api_key=os.environ.get(\"GROQ_API_KEY\"),\n",
    ")"
   ]
  },
  {
   "cell_type": "code",
   "execution_count": 3,
   "id": "7d0a3f3c-25e4-4ab9-8134-1167fdcbfea0",
   "metadata": {},
   "outputs": [],
   "source": [
    "class Agent:\n",
    "    def __init__(self, client: Groq, system: str = \"\") -> None:\n",
    "        self.client = client\n",
    "        self.system = system\n",
    "        self.messages: list = []\n",
    "        if self.system:\n",
    "            self.messages.append({\"role\": \"system\", \"content\": system})\n",
    "\n",
    "    def __call__(self, message=\"\"):\n",
    "        if message:\n",
    "            self.messages.append({\"role\": \"user\", \"content\": message})\n",
    "        result = self.execute()\n",
    "        self.messages.append({\"role\": \"assistant\", \"content\": result})\n",
    "        return result\n",
    "\n",
    "    def execute(self):\n",
    "        completion = client.chat.completions.create(\n",
    "            model=\"llama3-70b-8192\", messages=self.messages\n",
    "        )\n",
    "        return completion.choices[0].message.content"
   ]
  },
  {
   "cell_type": "code",
   "execution_count": 4,
   "id": "3120ebf5-a5e0-4c25-b0fd-e014b95a3474",
   "metadata": {},
   "outputs": [],
   "source": [
    "system_prompt = \"\"\"\n",
    "You run in a loop of Thought, Action, PAUSE, Observation.\n",
    "At the end of the loop you output an Answer\n",
    "Use Thought to describe your thoughts about the question you have been asked.\n",
    "Use Action to run one of the actions available to you - then return PAUSE.\n",
    "Observation will be the result of running those actions.\n",
    "\n",
    "Your available actions are:\n",
    "\n",
    "multiply:\n",
    "e.g. multiply: 4 * 7 / 3\n",
    "Runs a multiplication and returns a float - uses Python so be sure to use floating point syntax if necessary\n",
    "\n",
    "Example 1)\n",
    "\n",
    "Question: What is 5.25 times 7.39?\n",
    "Thought: I need to multiply 5.25 by 7.39\n",
    "Action: multiply: 5.25 * 7.39\n",
    "PAUSE \n",
    "\n",
    "You will be called again with this:\n",
    "\n",
    "Observation: 38.7975\n",
    "\n",
    "If you have the answer, output it as the Answer.\n",
    "\n",
    "Answer: The product of 5.25 and 7.39 is 38.7975\n",
    "\n",
    "Example 2)\n",
    "\n",
    "Question: What is product of 1.2,2,3 and 4?\n",
    "Thought: I need to multiply 1.5 by 2, then by 3, and finally by 4.\n",
    "Action: multiply: 1.5 * 2 * 3 * 4\n",
    "PAUSE \n",
    "\n",
    "You will be called again with this:\n",
    "\n",
    "Observation: 36.0\n",
    "\n",
    "If you have the answer, output it as the Answer.\n",
    "\n",
    "Answer: The product of 1.5, 2, 3 and 4 is 36.0\n",
    "\n",
    "Now it's your turn:\n",
    "\"\"\".strip()\n",
    "\n",
    "\n",
    "def multiply(list_of_numbers) -> float:\n",
    "    prod = 1\n",
    "    for num in list_of_numbers:\n",
    "        prod *= num\n",
    "    return prod"
   ]
  },
  {
   "cell_type": "code",
   "execution_count": 16,
   "id": "6dceed6e-669a-4b36-9770-903a05b10853",
   "metadata": {},
   "outputs": [],
   "source": [
    "import re\n",
    "\n",
    "def loop(max_iterations=10, query: str = \"\"):\n",
    "    agent = Agent(client=client, system=system_prompt)\n",
    "\n",
    "    tools = [multiply]\n",
    "    string_of_tools = {}\n",
    "    for tool in tools:\n",
    "        string_of_tools[tool.__name__] = tool\n",
    "    next_prompt = query\n",
    "\n",
    "    i = 0\n",
    "  \n",
    "    while i < max_iterations:\n",
    "        i += 1\n",
    "        result = agent(next_prompt)\n",
    "        print('----------')\n",
    "        print(result)\n",
    "\n",
    "        if \"PAUSE\" in result and \"Action\" in result:\n",
    "            # print('hello world')\n",
    "            action = re.findall(r\"Action: ([a-z_]+): (.+)\", result, re.IGNORECASE)\n",
    "            # print(action[0][1])\n",
    "            chosen_tool = action[0][0]\n",
    "            final_ans = \"\"\n",
    "            if chosen_tool in string_of_tools:\n",
    "                result_tool = string_of_tools[chosen_tool]\n",
    "                print(f'chosenTool: {result_tool}')\n",
    "                \n",
    "                if result_tool == multiply:\n",
    "                    # print('in multiply block')\n",
    "                    numbers = re.findall(r'\\d+\\.\\d+|\\d+', action[0][1])\n",
    "                    numbers = [float(num) for num in numbers]\n",
    "                    final_ans = result_tool(numbers)\n",
    "                next_prompt = f\"Observation: Multiply function output = {final_ans}\"\n",
    "\n",
    "            else:\n",
    "                next_prompt = \"Observation: Tool not found\"\n",
    "\n",
    "            print(next_prompt)\n",
    "            continue\n",
    "\n",
    "        if \"Answer\" in result:\n",
    "            break"
   ]
  },
  {
   "cell_type": "code",
   "execution_count": 17,
   "id": "f889c0f5-f4c2-4099-a287-975b3d08f956",
   "metadata": {},
   "outputs": [
    {
     "name": "stdout",
     "output_type": "stream",
     "text": [
      "----------\n",
      "Thought: I need to multiply 2 by 2, then by 3, and finally by 4.\n",
      "----------\n",
      "Action: multiply: 2 * 2 * 3 * 4\n",
      "PAUSE\n",
      "chosenTool: <function multiply at 0x720e33537740>\n",
      "Observation: Multiply function output = 48.0\n",
      "----------\n",
      "Answer: The product of 2, 2, 3 and 4 is 48.0\n"
     ]
    }
   ],
   "source": [
    "loop(10,\"What is product of 2,2,3 and 4\")"
   ]
  },
  {
   "cell_type": "code",
   "execution_count": 18,
   "id": "82c0921a-ec71-443f-9deb-07ab9e2e8b4a",
   "metadata": {},
   "outputs": [
    {
     "name": "stdout",
     "output_type": "stream",
     "text": [
      "----------\n",
      "Thought: I need to multiply 2.5 by 2.5, then by 3.5, and finally by 4.5.\n",
      "----------\n",
      "Action: multiply: 2.5 * 2.5 * 3.5 * 4.5\n",
      "PAUSE\n",
      "chosenTool: <function multiply at 0x720e33537740>\n",
      "Observation: Multiply function output = 98.4375\n",
      "----------\n",
      "Answer: The product of 2.5, 2.5, 3.5 and 4.5 is 98.4375\n"
     ]
    }
   ],
   "source": [
    "loop(10,\"What is product of 2.5,2.5,3.5 and 4.5\")"
   ]
  },
  {
   "cell_type": "code",
   "execution_count": null,
   "id": "c46843d5-780e-4933-a788-10cd5feab48b",
   "metadata": {},
   "outputs": [],
   "source": []
  }
 ],
 "metadata": {
  "kernelspec": {
   "display_name": "Python 3 (ipykernel)",
   "language": "python",
   "name": "python3"
  },
  "language_info": {
   "codemirror_mode": {
    "name": "ipython",
    "version": 3
   },
   "file_extension": ".py",
   "mimetype": "text/x-python",
   "name": "python",
   "nbconvert_exporter": "python",
   "pygments_lexer": "ipython3",
   "version": "3.12.3"
  }
 },
 "nbformat": 4,
 "nbformat_minor": 5
}
